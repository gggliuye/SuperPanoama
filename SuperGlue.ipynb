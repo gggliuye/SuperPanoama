{
 "cells": [
  {
   "cell_type": "code",
   "execution_count": 41,
   "metadata": {},
   "outputs": [],
   "source": [
    "import glob\n",
    "import numpy as np\n",
    "\n",
    "import matplotlib.pyplot as plt"
   ]
  },
  {
   "cell_type": "code",
   "execution_count": 1,
   "metadata": {},
   "outputs": [],
   "source": [
    "from pathlib import Path\n",
    "import argparse\n",
    "import cv2\n",
    "import matplotlib.cm as cm\n",
    "import torch\n",
    "\n",
    "from SuperGluePretrainedNetwork.models.matching import Matching\n",
    "from SuperGluePretrainedNetwork.models.utils import (AverageTimer, VideoStreamer,\n",
    "                          make_matching_plot_fast, frame2tensor)"
   ]
  },
  {
   "cell_type": "markdown",
   "metadata": {},
   "source": [
    "## 1. Load SuperPoint and SuperGlue models"
   ]
  },
  {
   "cell_type": "code",
   "execution_count": 9,
   "metadata": {},
   "outputs": [],
   "source": [
    "force_cpu = False\n",
    "device = 'cuda' if torch.cuda.is_available() and not force_cpu else 'cpu'\n",
    "config = {\n",
    "        'superpoint': {\n",
    "            'nms_radius': 4,\n",
    "            'keypoint_threshold': 0.005,\n",
    "            'max_keypoints': -1\n",
    "        },\n",
    "        'superglue': {\n",
    "            'weights': 'indoor',\n",
    "            'sinkhorn_iterations': 20,\n",
    "            'match_threshold': 0.2,\n",
    "        }\n",
    "    }"
   ]
  },
  {
   "cell_type": "code",
   "execution_count": 11,
   "metadata": {},
   "outputs": [
    {
     "name": "stdout",
     "output_type": "stream",
     "text": [
      "Loaded SuperPoint model\n",
      "Loaded SuperGlue model (\"indoor\" weights)\n"
     ]
    }
   ],
   "source": [
    "matching = Matching(config).eval().to(device)\n",
    "keys = ['keypoints', 'scores', 'descriptors']"
   ]
  },
  {
   "cell_type": "code",
   "execution_count": 4,
   "metadata": {},
   "outputs": [
    {
     "name": "stdout",
     "output_type": "stream",
     "text": [
      "Found 133 scans.\n",
      "Found 1197 images.\n"
     ]
    }
   ],
   "source": [
    "all_scans = glob.glob(\"../RGBD/garden*\")\n",
    "images_set = []\n",
    "print(\"Found\", len(all_scans), \"scans.\")\n",
    "for scan_folder in all_scans:\n",
    "    scan_images = glob.glob(scan_folder +\"/*_r.jpg\")\n",
    "    scan_images.sort()\n",
    "    images_set = images_set + scan_images\n",
    "print(\"Found\", len(images_set), \"images.\")"
   ]
  },
  {
   "cell_type": "code",
   "execution_count": 14,
   "metadata": {},
   "outputs": [
    {
     "name": "stdout",
     "output_type": "stream",
     "text": [
      "Found 9 test images\n"
     ]
    }
   ],
   "source": [
    "test_images = glob.glob(\"test_images/*.png\")\n",
    "test_images.sort()\n",
    "print(\"Found\", len(test_images), \"test images\")"
   ]
  },
  {
   "cell_type": "code",
   "execution_count": 29,
   "metadata": {},
   "outputs": [
    {
     "data": {
      "text/plain": [
       "'test_images/122.png'"
      ]
     },
     "execution_count": 29,
     "metadata": {},
     "output_type": "execute_result"
    }
   ],
   "source": [
    "test_images[idx]"
   ]
  },
  {
   "cell_type": "code",
   "execution_count": 25,
   "metadata": {},
   "outputs": [],
   "source": [
    "idx = 0\n",
    "frame = cv2.imread(test_images[idx])\n",
    "frame = cv2.cvtColor(frame, cv2.COLOR_RGB2GRAY)\n",
    "frame_tensor = frame2tensor(frame, device)\n",
    "\n",
    "\n",
    "last_data = matching.superpoint({'image': frame_tensor})\n",
    "last_data = {k+'0': last_data[k] for k in keys}\n",
    "last_data['image0'] = frame_tensor\n",
    "last_frame = frame\n",
    "last_image_id = 0"
   ]
  },
  {
   "cell_type": "code",
   "execution_count": 31,
   "metadata": {},
   "outputs": [],
   "source": [
    "frame = cv2.imread(\"9_r.jpg\")\n",
    "frame = cv2.cvtColor(frame, cv2.COLOR_RGB2GRAY)\n",
    "\n",
    "frame_tensor = frame2tensor(frame, device)\n",
    "pred = matching({**last_data, 'image1': frame_tensor})\n",
    "kpts0 = last_data['keypoints0'][0].cpu().numpy()\n",
    "kpts1 = pred['keypoints1'][0].cpu().numpy()\n",
    "matches = pred['matches0'][0].cpu().numpy()\n",
    "confidence = pred['matching_scores0'][0].cpu().detach().numpy()"
   ]
  },
  {
   "cell_type": "code",
   "execution_count": 39,
   "metadata": {},
   "outputs": [],
   "source": [
    "stem0 = 0\n",
    "stem1 = 1\n",
    "valid = matches > -1\n",
    "mkpts0 = kpts0[valid]\n",
    "mkpts1 = kpts1[matches[valid]]\n",
    "color = cm.jet(confidence[valid])\n",
    "text = [\n",
    "        'SuperGlue',\n",
    "        'Keypoints: {}:{}'.format(len(kpts0), len(kpts1)),\n",
    "        'Matches: {}'.format(len(mkpts0))\n",
    "    ]\n",
    "k_thresh = matching.superpoint.config['keypoint_threshold']\n",
    "m_thresh = matching.superglue.config['match_threshold']\n",
    "small_text = [\n",
    "        'Keypoint Threshold: {:.4f}'.format(k_thresh),\n",
    "        'Match Threshold: {:.2f}'.format(m_thresh),\n",
    "        'Image Pair: {:06}:{:06}'.format(stem0, stem1),\n",
    "    ]\n",
    "out = make_matching_plot_fast(\n",
    "            last_frame, frame, kpts0, kpts1, mkpts0, mkpts1, color, text,\n",
    "            path=None, show_keypoints=False, small_text=small_text)\n"
   ]
  },
  {
   "cell_type": "code",
   "execution_count": 48,
   "metadata": {
    "scrolled": true
   },
   "outputs": [
    {
     "data": {
      "text/plain": [
       "True"
      ]
     },
     "execution_count": 48,
     "metadata": {},
     "output_type": "execute_result"
    }
   ],
   "source": [
    "cv2.imwrite(\"out.jpg\",out)"
   ]
  },
  {
   "cell_type": "code",
   "execution_count": null,
   "metadata": {},
   "outputs": [],
   "source": []
  },
  {
   "cell_type": "code",
   "execution_count": null,
   "metadata": {},
   "outputs": [],
   "source": []
  }
 ],
 "metadata": {
  "kernelspec": {
   "display_name": "utopa_cv",
   "language": "python",
   "name": "utopa_cv"
  },
  "language_info": {
   "codemirror_mode": {
    "name": "ipython",
    "version": 3
   },
   "file_extension": ".py",
   "mimetype": "text/x-python",
   "name": "python",
   "nbconvert_exporter": "python",
   "pygments_lexer": "ipython3",
   "version": "3.6.9"
  }
 },
 "nbformat": 4,
 "nbformat_minor": 2
}
