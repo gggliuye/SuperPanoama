{
 "cells": [
  {
   "cell_type": "code",
   "execution_count": 1,
   "metadata": {},
   "outputs": [],
   "source": [
    "import cv2\n",
    "import glob\n",
    "import numpy as np\n",
    "\n",
    "import matplotlib.pyplot as plt\n",
    "from progressbar import *\n",
    "\n",
    "from MatlabTests.python.read_write_model import *\n",
    "from MatlabTests.python.read_dense import *"
   ]
  },
  {
   "cell_type": "code",
   "execution_count": 2,
   "metadata": {},
   "outputs": [],
   "source": [
    "def rank_images(images):\n",
    "    ids = []\n",
    "    for image in images:\n",
    "        id_str = image.split('\\\\')[-1][:-4]\n",
    "        ids.append(int(id_str))\n",
    "        \n",
    "    rank = np.argsort(np.asarray(ids))\n",
    "    return [images[i] for i in rank]"
   ]
  },
  {
   "cell_type": "code",
   "execution_count": 3,
   "metadata": {},
   "outputs": [],
   "source": [
    "def resize_data(data, size = (480,640)):\n",
    "    #result = np.zeros(data.shape)\n",
    "    if(len(data.shape) == 2):\n",
    "        # depth\n",
    "        result = np.zeros((size[0], size[1]))\n",
    "        result[0:data.shape[0], 0:data.shape[1]] = data\n",
    "    else:\n",
    "        result = np.zeros((size[0], size[1], 3)).astype(np.uint8)\n",
    "        result[0:data.shape[0], 0:data.shape[1], :] = data\n",
    "    return result"
   ]
  },
  {
   "cell_type": "code",
   "execution_count": 4,
   "metadata": {},
   "outputs": [],
   "source": [
    "def combine_two_image(img1, img2, margin=10):\n",
    "    H0, W0, _ = img1.shape\n",
    "    H1, W1, _ = img2.shape\n",
    "    H, W = max(H0, H1), W0 + W1 + margin\n",
    "    out_all = 255*np.ones((H, W, 3), np.uint8)\n",
    "    out_all[:H0, :W0, :] = img1\n",
    "    out_all[:H1, W0+margin:, :] = img2\n",
    "    return out_all\n",
    "\n",
    "def combine_two_image_vertical(img1, img2, margin=10):\n",
    "    if(img1 is None):\n",
    "        return img2\n",
    "    H0, W0, _ = img1.shape\n",
    "    H1, W1, _ = img2.shape\n",
    "    H, W = H0 + H1 + margin, max(W0, W1)\n",
    "    out_all = 255*np.ones((H, W, 3), np.uint8)\n",
    "    out_all[:H0, :W0, :] = img1\n",
    "    out_all[H0+margin:, :W1, :] = img2\n",
    "    return out_all\n",
    "\n",
    "def put_topleft_text(image, text):\n",
    "    sc = min(image.shape[0] / 640., 2.0)\n",
    "    Ht = int(30 * sc)\n",
    "    cv2.putText(image, text, (int(8*sc), Ht), cv2.FONT_HERSHEY_DUPLEX,\n",
    "                    1.0*sc, (0, 255, 0), 2, cv2.LINE_AA)\n",
    "    return image"
   ]
  },
  {
   "cell_type": "code",
   "execution_count": 20,
   "metadata": {},
   "outputs": [
    {
     "name": "stdout",
     "output_type": "stream",
     "text": [
      "==> Loaded 4419 images\n"
     ]
    }
   ],
   "source": [
    "worksapce_path = \"./WinterThirdFloor/winter_third_floor_results/\"\n",
    "images_folder = worksapce_path + \"/images/\"\n",
    "sub_folders = ['cut_'+str(i+1) for i in range(3)]\n",
    "images_all = []\n",
    "for sub_folder in sub_folders:\n",
    "    images = glob.glob(images_folder+ sub_folder + \"/*.png\")\n",
    "    images = rank_images(images)\n",
    "    images_all = images_all + images\n",
    "print(\"==> Loaded\", len(images_all), \"images\")"
   ]
  },
  {
   "cell_type": "markdown",
   "metadata": {},
   "source": [
    "# 1. Make Segmentation Videos"
   ]
  },
  {
   "cell_type": "code",
   "execution_count": 28,
   "metadata": {},
   "outputs": [
    {
     "name": "stderr",
     "output_type": "stream",
     "text": [
      "100% |########################################################################|\n"
     ]
    }
   ],
   "source": [
    "fourcc = cv2.VideoWriter_fourcc(*'MJPG')\n",
    "height = 480\n",
    "width = 640\n",
    "margin = 10\n",
    "video_writer = cv2.VideoWriter(\"WinterThirdFloor/output.avi\", fourcc, 20, (width*3+margin*2, height))\n",
    "\n",
    "bar = ProgressBar()\n",
    "for i in bar(range(len(images_all))):\n",
    "    image_name = images_all[i].split(\"/\")[-1]\n",
    "        \n",
    "    rgb = cv2.imread(images_all[i])\n",
    "    rgb = resize_data(rgb, (height,width))\n",
    "    rgb = put_topleft_text(rgb, \"rgb image \"+ image_name + \" \" + str(i))\n",
    "    \n",
    "    seg_ade20k = cv2.imread(worksapce_path+\"/segmentation/\"+image_name+\".png\")\n",
    "    seg_ade20k = cv2.resize(seg_ade20k, (width, height))\n",
    "    seg_ade20k = put_topleft_text(seg_ade20k, \"ade20k trained\")\n",
    "    \n",
    "#     image_name = images[i].split(\"\\\\\")[-1]\n",
    "#     seg_pascal = cv2.imread(worksapce_path+\"/segmentation_pascal/\"+image_name+\".png\")\n",
    "#     seg_pascal = cv2.resize(seg_pascal, (width, height))\n",
    "#     seg_pascal = put_topleft_text(seg_pascal, \"pascal trained\")\n",
    "    \n",
    "    depth_path = worksapce_path + '/depth/' + image_name + '.geometric.bin'\n",
    "    mvs_depth = read_array(depth_path)\n",
    "    mvs_depth = cv2.applyColorMap(cv2.convertScaleAbs(mvs_depth,alpha=30),cv2.COLORMAP_JET)\n",
    "    mvs_depth = resize_data(mvs_depth, (height,width))\n",
    "    mvs_depth = put_topleft_text(mvs_depth, \"colmap mvs\")\n",
    "    \n",
    "    frame = combine_two_image(rgb, seg_ade20k, margin)\n",
    "    frame = combine_two_image(frame, mvs_depth, margin)\n",
    "    video_writer.write(frame)\n",
    "    \n",
    "video_writer.release()"
   ]
  },
  {
   "cell_type": "markdown",
   "metadata": {},
   "source": [
    "# 2. Make depth prediction video"
   ]
  },
  {
   "cell_type": "code",
   "execution_count": 11,
   "metadata": {},
   "outputs": [
    {
     "name": "stderr",
     "output_type": "stream",
     "text": [
      "100% |########################################################################|\n"
     ]
    }
   ],
   "source": [
    "fourcc = cv2.VideoWriter_fourcc(*'MJPG')\n",
    "height = 480\n",
    "width = 640\n",
    "margin = 10\n",
    "video_writer = cv2.VideoWriter(\"garden/output_depth.avi\", fourcc, 20, (width*3+margin*2, height*2+margin))\n",
    "\n",
    "bar = ProgressBar()\n",
    "for i in bar(range(len(images))):\n",
    "    rgb = cv2.imread(images[i])\n",
    "    rgb = resize_data(rgb, (height,width))\n",
    "    rgb = put_topleft_text(rgb, \"rgb image\")\n",
    "    \n",
    "    image_name = images[i].split(\"\\\\\")[-1][:-4]\n",
    "    \n",
    "    demon = cv2.imread(worksapce_path+\"/depth_completion/demon/\" +image_name+\"_depth.png\")\n",
    "    demon = cv2.resize(demon, (width, height))\n",
    "    demon = put_topleft_text(demon, \"demon\")\n",
    "    \n",
    "    deepmvs = np.load(worksapce_path+\"/deepmvs/\" +image_name+\".png.output.npy\")\n",
    "    deepmvs = cv2.applyColorMap(cv2.convertScaleAbs(deepmvs,alpha=30),cv2.COLORMAP_JET)\n",
    "    deepmvs = cv2.resize(deepmvs, (width, height))\n",
    "    deepmvs = put_topleft_text(deepmvs, \"deepmvs\")\n",
    "    \n",
    "    full_depth = combine_two_image(rgb, demon, margin)\n",
    "    full_depth = combine_two_image(full_depth, deepmvs, margin)\n",
    "    \n",
    "#     depth_path = worksapce_path + '/mvs/stereo/depth_maps/' + image_name + '.png.geometric.bin'\n",
    "#     mvs_depth = read_array(depth_path)\n",
    "#     mvs_depth = cv2.applyColorMap(cv2.convertScaleAbs(mvs_depth,alpha=30),cv2.COLORMAP_JET)\n",
    "#     mvs_depth = resize_data(mvs_depth, (height,width))\n",
    "#     mvs_depth = put_topleft_text(mvs_depth, \"colmap mvs\")\n",
    "    \n",
    "    sparse = cv2.imread(worksapce_path+\"/depth_completion/sparse/\"+image_name+\"_dep.jpg\")\n",
    "    sparse = cv2.resize(sparse, (width, height))\n",
    "    sparse = put_topleft_text(sparse, \"sparse features\")\n",
    "    \n",
    "#     colmap = combine_two_image(rgb, mvs_depth, margin)\n",
    "#     colmap = combine_two_image(colmap, sparse, margin)\n",
    "    \n",
    "    cspn = cv2.imread(worksapce_path+\"/depth_completion/cspn/\"+image_name+\"_dep.jpg\")\n",
    "    cspn = cv2.resize(cspn, (width, height))\n",
    "    cspn = put_topleft_text(cspn, \"cspn\")\n",
    "    \n",
    "    sparse_to_dense = cv2.imread(worksapce_path+\"/depth_completion/sparse_to_dense/\"+image_name+\"_dep.jpg\")\n",
    "    sparse_to_dense = cv2.resize(sparse_to_dense, (width, height))\n",
    "    sparse_to_dense = put_topleft_text(sparse_to_dense, \"sparse_to_dense\")\n",
    "    \n",
    "    from_sparse = combine_two_image(sparse, cspn, margin)\n",
    "    from_sparse = combine_two_image(from_sparse, sparse_to_dense, margin)\n",
    "\n",
    "    frame = combine_two_image_vertical(full_depth, from_sparse, margin)\n",
    "    video_writer.write(frame)\n",
    "    \n",
    "video_writer.release()"
   ]
  },
  {
   "cell_type": "markdown",
   "metadata": {},
   "source": [
    "# 3. Make Floor Repair video"
   ]
  },
  {
   "cell_type": "code",
   "execution_count": 10,
   "metadata": {},
   "outputs": [
    {
     "name": "stderr",
     "output_type": "stream",
     "text": [
      "100% |########################################################################|\n"
     ]
    }
   ],
   "source": [
    "fourcc = cv2.VideoWriter_fourcc(*'MJPG')\n",
    "height = 480\n",
    "width = 640\n",
    "margin = 10\n",
    "video_writer = cv2.VideoWriter(\"garden/output_floor.avi\", fourcc, 20, (width*3+margin*2, height*2+margin))\n",
    "\n",
    "bar = ProgressBar()\n",
    "for i in bar(range(len(images))):\n",
    "    rgb = cv2.imread(images[i])\n",
    "    rgb = resize_data(rgb, (height,width))\n",
    "    rgb = put_topleft_text(rgb, \"rgb image\")\n",
    "    \n",
    "    image_name = images[i].split(\"\\\\\")[-1][:-4]\n",
    "    depth_path = worksapce_path + '/mvs/stereo/depth_maps/' + image_name + '.png.geometric.bin'\n",
    "    mvs_depth = read_array(depth_path)\n",
    "    mvs_depth = cv2.applyColorMap(cv2.convertScaleAbs(mvs_depth,alpha=30),cv2.COLORMAP_JET)\n",
    "    mvs_depth = resize_data(mvs_depth, (height,width))\n",
    "    mvs_depth = put_topleft_text(mvs_depth, \"colmap mvs\")\n",
    "    \n",
    "    seg_ade20k = cv2.imread(worksapce_path+\"/segmentation_ade20k/\"+image_name+\".png.png\")\n",
    "    seg_ade20k = cv2.resize(seg_ade20k, (width, height))\n",
    "    seg_ade20k = put_topleft_text(seg_ade20k, \"ade20k trained\")\n",
    "    \n",
    "    source = combine_two_image(rgb, mvs_depth, margin)\n",
    "    source = combine_two_image(source, seg_ade20k, margin)\n",
    "    \n",
    "    floor_repair = cv2.imread(worksapce_path+\"/floor_process/del_floor/\"+image_name+\".png.jpg\")\n",
    "    floor_repair = resize_data(floor_repair, (height,width))\n",
    "    floor_repair = put_topleft_text(floor_repair, \"floor repair\")\n",
    "    \n",
    "    floor_fill = cv2.imread(worksapce_path+\"/floor_process/fill_floor/\"+image_name+\".png.jpg\")\n",
    "    floor_fill = resize_data(floor_fill, (height,width))\n",
    "    floor_fill = put_topleft_text(floor_fill, \"floor filling\")\n",
    "\n",
    "    depth_complete = np.load(worksapce_path+\"/tv_res/matlab/\"+image_name+\".png.npy\")\n",
    "    depth_complete = cv2.applyColorMap(cv2.convertScaleAbs(depth_complete,alpha=30),cv2.COLORMAP_JET)\n",
    "    depth_complete = resize_data(depth_complete, (height,width))\n",
    "    depth_complete = put_topleft_text(depth_complete, \"TV reconstruction\")\n",
    "    \n",
    "    result = combine_two_image(floor_repair, floor_fill, margin)\n",
    "    result = combine_two_image(result, depth_complete, margin)\n",
    "\n",
    "    frame = combine_two_image_vertical(source, result, margin)\n",
    "    video_writer.write(frame)\n",
    "    \n",
    "video_writer.release()"
   ]
  },
  {
   "cell_type": "code",
   "execution_count": null,
   "metadata": {},
   "outputs": [],
   "source": []
  }
 ],
 "metadata": {
  "kernelspec": {
   "display_name": "Python 3",
   "language": "python",
   "name": "python3"
  },
  "language_info": {
   "codemirror_mode": {
    "name": "ipython",
    "version": 3
   },
   "file_extension": ".py",
   "mimetype": "text/x-python",
   "name": "python",
   "nbconvert_exporter": "python",
   "pygments_lexer": "ipython3",
   "version": "3.7.1"
  }
 },
 "nbformat": 4,
 "nbformat_minor": 2
}
