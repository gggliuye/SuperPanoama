{
 "cells": [
  {
   "cell_type": "code",
   "execution_count": 22,
   "metadata": {},
   "outputs": [],
   "source": [
    "import numpy as np\n",
    "import imageio\n",
    "import cv2\n",
    "import glob\n",
    "import os\n",
    "\n",
    "import open3d as o3d\n",
    "from pyquaternion import Quaternion\n",
    "import matplotlib.pyplot as plt\n",
    "\n",
    "from MatlabTests.python.read_write_model import *\n",
    "from MatlabTests.python.read_dense import *"
   ]
  },
  {
   "cell_type": "markdown",
   "metadata": {},
   "source": [
    "## Colmap sparse and dense results"
   ]
  },
  {
   "cell_type": "code",
   "execution_count": 19,
   "metadata": {},
   "outputs": [],
   "source": [
    "input_model = \"TestMap/sparse\"\n",
    "input_format = \".bin\"\n",
    "image_folder = \"TestMap/images/\"\n",
    "depth_folder = \"TestMap/mvs/tv_depths/\""
   ]
  },
  {
   "cell_type": "code",
   "execution_count": 7,
   "metadata": {},
   "outputs": [
    {
     "name": "stdout",
     "output_type": "stream",
     "text": [
      "num_cameras: 351\n",
      "num_images: 351\n",
      "num_points3D: 27470\n"
     ]
    }
   ],
   "source": [
    "cameras, images, points3D = read_model(path=input_model, ext=input_format)\n",
    "print(\"num_cameras:\", len(cameras))\n",
    "print(\"num_images:\", len(images))\n",
    "print(\"num_points3D:\", len(points3D))"
   ]
  },
  {
   "cell_type": "markdown",
   "metadata": {},
   "source": [
    "![mesh colmap](images/mesh_colmap.png)"
   ]
  },
  {
   "cell_type": "code",
   "execution_count": 9,
   "metadata": {},
   "outputs": [],
   "source": [
    "def q_t_to_matrix(q_vec, t_vec):\n",
    "    quaternion = Quaternion(q_vec)\n",
    "    pose = np.eye(4)\n",
    "    pose[0:3,0:3] = quaternion.rotation_matrix\n",
    "    pose[0:3, 3] = t_vec\n",
    "    #pose = np.linalg.inv(pose)\n",
    "    return pose"
   ]
  },
  {
   "cell_type": "markdown",
   "metadata": {},
   "source": [
    "## TSDF Mapping"
   ]
  },
  {
   "cell_type": "code",
   "execution_count": 72,
   "metadata": {},
   "outputs": [],
   "source": [
    "def reshape_depth(depth, size=(480,640)):\n",
    "    reshaped_depth = np.zeros(size)\n",
    "    height = min(size[0], depth.shape[0])\n",
    "    width = min(size[1], depth.shape[1])\n",
    "    reshaped_depth[0:height, 0:width] = depth[0:height, 0:width]\n",
    "    return reshaped_depth\n",
    "\n",
    "def filter_depth(depth, prec = 5):\n",
    "    # filter by the percentile\n",
    "    depth_tmp = np.zeros(depth.shape) + depth\n",
    "    depth_range = np.percentile(depth_tmp[depth_tmp>0.1], [prec,100-prec])\n",
    "\n",
    "    depth_tmp[depth_tmp < depth_range[0]] = 0\n",
    "    depth_tmp[depth_tmp > depth_range[1]] = 0\n",
    "    \n",
    "    # filter the closest points\n",
    "    max_t = np.max(depth_tmp[depth_tmp> 0.01])\n",
    "    min_t = np.min(depth_tmp[depth_tmp> 0.01])\n",
    "    \n",
    "    threshold = (max_t - min_t)/50 + min_t\n",
    "    depth[depth < threshold] = 0\n",
    "    return depth"
   ]
  },
  {
   "cell_type": "code",
   "execution_count": 89,
   "metadata": {},
   "outputs": [],
   "source": [
    "def show_rgbd_test(rgbd_image):\n",
    "    pcd = o3d.geometry.PointCloud.create_from_rgbd_image(\n",
    "        rgbd_image,\n",
    "        o3d.camera.PinholeCameraIntrinsic(\n",
    "            o3d.camera.PinholeCameraIntrinsicParameters.PrimeSenseDefault))\n",
    "    # Flip it, otherwise the pointcloud will be upside down\n",
    "    pcd.transform([[1, 0, 0, 0], [0, -1, 0, 0], [0, 0, -1, 0], [0, 0, 0, 1]])\n",
    "    \n",
    "    plt.subplot(1, 2, 1)\n",
    "    plt.title('color image')\n",
    "    plt.imshow(rgbd_image.color)\n",
    "    plt.subplot(1, 2, 2)\n",
    "    plt.title('depth image')\n",
    "    plt.imshow(rgbd_image.depth)\n",
    "    plt.show()\n",
    "    return pcd"
   ]
  },
  {
   "cell_type": "code",
   "execution_count": 88,
   "metadata": {},
   "outputs": [
    {
     "name": "stdout",
     "output_type": "stream",
     "text": [
      " current process frame :[351/351]"
     ]
    }
   ],
   "source": [
    "volume = o3d.integration.ScalableTSDFVolume(\n",
    "    voxel_length=2.0 / 512.0,\n",
    "    sdf_trunc=0.02,\n",
    "    color_type=o3d.integration.TSDFVolumeColorType.RGB8)\n",
    "\n",
    "count = 1\n",
    "for image_id, Image in images.items():\n",
    "    pose_camera = q_t_to_matrix(Image.qvec, Image.tvec*0.1) #np.linalg.inv\n",
    "    image_file = image_folder + \"/\" + Image.name\n",
    "    depth_file = depth_folder + \"/\" + Image.name.split(\"/\")[-1] + \".geometric.bin\"\n",
    "    if(not os.path.exists(depth_file)):\n",
    "        continue\n",
    "    \n",
    "    color = o3d.io.read_image(image_file)\n",
    "    depth_py = filter_depth(read_array(depth_file))\n",
    "    depth_py = reshape_depth(depth_py)*100\n",
    "    \n",
    "    depth = o3d.geometry.Image(depth_py.astype('u2'))\n",
    "    rgbd_image = o3d.geometry.RGBDImage.create_from_color_and_depth(\n",
    "                color, depth, depth_trunc=4.0, convert_rgb_to_intensity=False)\n",
    "    \n",
    "    camera_param = cameras[Image.camera_id].params\n",
    "    volume.integrate(\n",
    "        rgbd_image,\n",
    "        o3d.camera.PinholeCameraIntrinsic(640, 480, camera_param[0], camera_param[0], camera_param[1], camera_param[2]),\n",
    "        pose_camera)\n",
    "    print(\"\\r current process frame :[\"+str(count)+\"/\"+str(len(images))+\"]\", end=\"\", flush= True)\n",
    "    count += 1"
   ]
  },
  {
   "cell_type": "code",
   "execution_count": 90,
   "metadata": {},
   "outputs": [
    {
     "name": "stdout",
     "output_type": "stream",
     "text": [
      "Extract a triangle mesh from the volume and visualize it.\n"
     ]
    }
   ],
   "source": [
    "print(\"Extract a triangle mesh from the volume and visualize it.\")\n",
    "mesh = volume.extract_triangle_mesh()\n",
    "mesh.compute_vertex_normals()\n",
    "o3d.visualization.draw_geometries([mesh])"
   ]
  },
  {
   "cell_type": "markdown",
   "metadata": {},
   "source": [
    "![image mesh](images/mesh_test.png)"
   ]
  },
  {
   "cell_type": "code",
   "execution_count": 86,
   "metadata": {},
   "outputs": [
    {
     "data": {
      "text/plain": [
       "True"
      ]
     },
     "execution_count": 86,
     "metadata": {},
     "output_type": "execute_result"
    }
   ],
   "source": [
    "o3d.io.write_triangle_mesh(\"test_mesh.ply\", mesh)"
   ]
  },
  {
   "cell_type": "code",
   "execution_count": null,
   "metadata": {},
   "outputs": [],
   "source": []
  },
  {
   "cell_type": "code",
   "execution_count": null,
   "metadata": {},
   "outputs": [],
   "source": []
  }
 ],
 "metadata": {
  "kernelspec": {
   "display_name": "Python 3",
   "language": "python",
   "name": "python3"
  },
  "language_info": {
   "codemirror_mode": {
    "name": "ipython",
    "version": 3
   },
   "file_extension": ".py",
   "mimetype": "text/x-python",
   "name": "python",
   "nbconvert_exporter": "python",
   "pygments_lexer": "ipython3",
   "version": "3.7.1"
  }
 },
 "nbformat": 4,
 "nbformat_minor": 2
}
