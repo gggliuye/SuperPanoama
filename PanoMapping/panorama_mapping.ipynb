{
 "cells": [
  {
   "cell_type": "code",
   "execution_count": 2,
   "metadata": {},
   "outputs": [],
   "source": [
    "import numpy as np\n",
    "import matplotlib.pyplot as plt\n",
    "import imageio\n",
    "import cv2\n",
    "import glob\n",
    "import os\n",
    "\n",
    "from pyquaternion import Quaternion\n",
    "from panorama_to_pinhole import *\n",
    "from Pano_Utils import *"
   ]
  },
  {
   "cell_type": "code",
   "execution_count": 3,
   "metadata": {},
   "outputs": [],
   "source": [
    "import open3d as o3d\n",
    "from pyntcloud import PyntCloud\n",
    "import pye57"
   ]
  },
  {
   "cell_type": "markdown",
   "metadata": {},
   "source": [
    "# 1. Load panorama\n",
    "\n",
    "load the panorama image and its corresponding depth data"
   ]
  },
  {
   "cell_type": "code",
   "execution_count": 6,
   "metadata": {},
   "outputs": [
    {
     "name": "stdout",
     "output_type": "stream",
     "text": [
      "266 133\n"
     ]
    }
   ],
   "source": [
    "dataset_path = \"../Raw/\"\n",
    "pano_images = glob.glob(dataset_path+\"/picture/*.jpg\")\n",
    "pano_scans = glob.glob(dataset_path+\"/*.e57\")\n",
    "pano_scans.sort()\n",
    "print(len(pano_images), len(pano_scans))"
   ]
  },
  {
   "cell_type": "code",
   "execution_count": 43,
   "metadata": {},
   "outputs": [],
   "source": [
    "draw_clouds = []\n",
    "\n",
    "for k in range(len(pano_scans)):\n",
    "#for k in range(2):    \n",
    "    points, colors, R_scan, t_scan = read_e57_with_pose(pano_scans[k], False)\n",
    "    \n",
    "    point_cloud_o3d = o3d.geometry.PointCloud()\n",
    "    point_cloud_o3d.points = o3d.utility.Vector3dVector(points[:,0:3])\n",
    "    point_cloud_o3d.colors = o3d.utility.Vector3dVector(np.asarray(colors) / 255)\n",
    "    point_cloud_o3d = point_cloud_o3d.voxel_down_sample(voxel_size=0.10)\n",
    "    \n",
    "    o3d.io.write_point_cloud(\"../SubSampled/\"+str(k)+\".ply\", point_cloud_o3d)\n",
    "    #draw_clouds.append(point_cloud_o3d)\n",
    "#o3d.visualization.draw_geometries(draw_clouds)"
   ]
  },
  {
   "cell_type": "markdown",
   "metadata": {},
   "source": [
    "### Make a subsampled full cloud"
   ]
  },
  {
   "cell_type": "code",
   "execution_count": 32,
   "metadata": {},
   "outputs": [],
   "source": [
    "cloud_files = glob.glob(\"../SubSampled/*.ply\")\n",
    "cloud_files.sort()\n",
    "\n",
    "cloud_full = None\n",
    "for cloud_file in cloud_files:\n",
    "    cloud_o3d = o3d.io.read_point_cloud(cloud_file)\n",
    "    if(cloud_full is None):\n",
    "        cloud_full = cloud_o3d\n",
    "    else:\n",
    "        pts_total = np.concatenate((np.asarray(cloud_o3d.points), np.asarray(cloud_full.points)))\n",
    "        colors_total = np.concatenate((np.asarray(cloud_o3d.colors), np.asarray(cloud_full.colors)))\n",
    "        \n",
    "        cloud_full = o3d.geometry.PointCloud()\n",
    "        cloud_full.points = o3d.utility.Vector3dVector(pts_total)\n",
    "        cloud_full.colors = o3d.utility.Vector3dVector(colors_total)\n",
    "        cloud_full = cloud_full.voxel_down_sample(voxel_size=0.10)"
   ]
  },
  {
   "cell_type": "code",
   "execution_count": 33,
   "metadata": {},
   "outputs": [
    {
     "data": {
      "text/plain": [
       "True"
      ]
     },
     "execution_count": 33,
     "metadata": {},
     "output_type": "execute_result"
    }
   ],
   "source": [
    "o3d.visualization.draw_geometries([cloud_full])\n",
    "o3d.io.write_point_cloud(\"../SubSampled_cloud.ply\", cloud_full)"
   ]
  },
  {
   "cell_type": "markdown",
   "metadata": {},
   "source": [
    "# 2. TSDF from RGBD"
   ]
  },
  {
   "cell_type": "code",
   "execution_count": 7,
   "metadata": {},
   "outputs": [
    {
     "name": "stdout",
     "output_type": "stream",
     "text": [
      "Found 133 scan folders.\n"
     ]
    }
   ],
   "source": [
    "scan_folders_path = \"../RGBD/\"\n",
    "scan_folders = glob.glob(scan_folders_path + \"garden*\")\n",
    "scan_folders.sort()\n",
    "print(\"Found\",len(scan_folders), \"scan folders.\")"
   ]
  },
  {
   "cell_type": "code",
   "execution_count": 8,
   "metadata": {},
   "outputs": [],
   "source": [
    "def line_to_array(line):\n",
    "    array = []\n",
    "    for i in line.split(\" \"):\n",
    "        if len(i) > 3:\n",
    "            array.append(i)\n",
    "    return np.asarray(array).astype(float)\n",
    "\n",
    "def load_pose_scan(file, scale=1):\n",
    "    f = open(file)\n",
    "    pose = np.eye(4)\n",
    "    for i in range(2):\n",
    "        line = f.readline()[2:-2]\n",
    "        pose[i, 0:3] = line_to_array(line)\n",
    "    line = f.readline()[2:-3]\n",
    "    pose[2, 0:3] = line_to_array(line)    \n",
    "    line = f.readline()[1:-1]\n",
    "    pose[0:3, 3] = line_to_array(line)*scale\n",
    "    return pose\n",
    "\n",
    "def load_pose_pinhole(file, idx):\n",
    "    f = open(file)\n",
    "    for i in range(idx):\n",
    "        line = f.readline()\n",
    "    pose = [float(i) for i in line.split(\" \")] \n",
    "    return np.asarray(pose[1:]).reshape(4,4)"
   ]
  },
  {
   "cell_type": "code",
   "execution_count": 22,
   "metadata": {},
   "outputs": [],
   "source": [
    "volume = o3d.integration.ScalableTSDFVolume(\n",
    "    voxel_length=4.0 / 512.0,\n",
    "    sdf_trunc=0.04,\n",
    "    color_type=o3d.integration.TSDFVolumeColorType.RGB8)\n",
    "\n",
    "num_each = 9\n",
    "for k in range(len(scan_folders)):\n",
    "#for k in range(60, 62):\n",
    "    folder = scan_folders[k]\n",
    "    pose_scan_file = folder + \"/scan_pose.txt\"\n",
    "    pose_scan = load_pose_scan(pose_scan_file, scale = 0.1)\n",
    "    \n",
    "    q_y90 = Quaternion(axis = [0,1,0], angle=-np.pi/2)\n",
    "    pose_tfy = np.eye(4); pose_tfy[0:3,0:3] = q_y90.rotation_matrix\n",
    "\n",
    "    q_x90 = Quaternion(axis = [1,0,0], angle=-np.pi/2)\n",
    "    pose_tfx = np.eye(4); pose_tfx[0:3,0:3] = q_x90.rotation_matrix\n",
    "    \n",
    "    pose_scan_inv = np.linalg.inv(pose_scan)\n",
    "    pose_scan = np.dot(pose_scan_inv, np.dot(pose_tfx, pose_tfy))\n",
    "    \n",
    "    pose_camera_file = folder + \"/camera_local_poses.txt\"\n",
    "    for i in range(num_each):\n",
    "        pose_camera = np.dot(load_pose_pinhole(pose_camera_file, i+1), np.linalg.inv(pose_scan))\n",
    "        \n",
    "        depth_file = folder + \"/\" + str(i+1) +\"_d.npy\"\n",
    "        image_file = folder + \"/\" + str(i+1) +\"_r.jpg\"\n",
    "        color = o3d.io.read_image(image_file)\n",
    "        depth_py = np.load(depth_file)*100\n",
    "        depth = o3d.geometry.Image(depth_py.astype('u2'))\n",
    "        rgbd_image = o3d.geometry.RGBDImage.create_from_color_and_depth(\n",
    "                color, depth, depth_trunc=2.0, convert_rgb_to_intensity=False)\n",
    "        \n",
    "        volume.integrate(\n",
    "            rgbd_image,\n",
    "            o3d.camera.PinholeCameraIntrinsic(640, 480, 500, 500, 320, 240),\n",
    "            pose_camera)"
   ]
  },
  {
   "cell_type": "code",
   "execution_count": 23,
   "metadata": {
    "scrolled": true
   },
   "outputs": [
    {
     "name": "stdout",
     "output_type": "stream",
     "text": [
      "Extract a triangle mesh from the volume and visualize it.\n"
     ]
    }
   ],
   "source": [
    "print(\"Extract a triangle mesh from the volume and visualize it.\")\n",
    "mesh = volume.extract_triangle_mesh()\n",
    "mesh.compute_vertex_normals()\n",
    "o3d.visualization.draw_geometries([mesh])"
   ]
  },
  {
   "cell_type": "code",
   "execution_count": 24,
   "metadata": {},
   "outputs": [
    {
     "data": {
      "text/plain": [
       "True"
      ]
     },
     "execution_count": 24,
     "metadata": {},
     "output_type": "execute_result"
    }
   ],
   "source": [
    "o3d.io.write_triangle_mesh(\"garden_mesh.ply\", mesh)"
   ]
  },
  {
   "cell_type": "markdown",
   "metadata": {},
   "source": [
    "![image](images/mesh_2.png)\n",
    "![image](images/mesh_1.png)"
   ]
  },
  {
   "cell_type": "markdown",
   "metadata": {},
   "source": [
    "# 3. Combine with colmap\n",
    "\n",
    "#### extract images in the first floor"
   ]
  },
  {
   "cell_type": "code",
   "execution_count": 3,
   "metadata": {},
   "outputs": [
    {
     "data": {
      "text/plain": [
       "256"
      ]
     },
     "execution_count": 3,
     "metadata": {},
     "output_type": "execute_result"
    }
   ],
   "source": [
    "floor_one_output_folder = \"/home/viki/Lucas/garden/floor_one\"\n",
    "floor_one_output_folder_d = \"/home/viki/Lucas/garden/floor_one/depth\"\n",
    "floor_one_output_folder_r = \"/home/viki/Lucas/garden/floor_one/rgb\"\n",
    "floor_one_pose_file = floor_one_output_folder + \"/pose.txt\"\n",
    "os.system(\"mkdir \" + floor_one_output_folder)\n",
    "os.system(\"mkdir \" + floor_one_output_folder_r)\n",
    "os.system(\"mkdir \" + floor_one_output_folder_d)"
   ]
  },
  {
   "cell_type": "markdown",
   "metadata": {},
   "source": [
    "### make a mesh for the first floor"
   ]
  },
  {
   "cell_type": "code",
   "execution_count": 9,
   "metadata": {},
   "outputs": [],
   "source": [
    "volume = o3d.integration.ScalableTSDFVolume(\n",
    "    voxel_length=4.0 / 512.0,\n",
    "    sdf_trunc=0.04,\n",
    "    color_type=o3d.integration.TSDFVolumeColorType.RGB8)\n",
    "\n",
    "num_each = 9\n",
    "count_all = 1\n",
    "for k in range(len(scan_folders)):\n",
    "#for k in range(60, 62):\n",
    "    folder = scan_folders[k]\n",
    "    pose_scan_file = folder + \"/scan_pose.txt\"\n",
    "    pose_scan = load_pose_scan(pose_scan_file, scale = 0.1)\n",
    "    \n",
    "    q_y90 = Quaternion(axis = [0,1,0], angle=-np.pi/2)\n",
    "    pose_tfy = np.eye(4); pose_tfy[0:3,0:3] = q_y90.rotation_matrix\n",
    "\n",
    "    q_x90 = Quaternion(axis = [1,0,0], angle=-np.pi/2)\n",
    "    pose_tfx = np.eye(4); pose_tfx[0:3,0:3] = q_x90.rotation_matrix\n",
    "    \n",
    "    pose_scan_inv = np.linalg.inv(pose_scan)\n",
    "    pose_scan = np.dot(pose_scan_inv, np.dot(pose_tfx, pose_tfy))\n",
    "    pose_scan = np.linalg.inv(pose_scan)\n",
    "    \n",
    "    if(pose_scan[1,3] > 6.5):\n",
    "        continue\n",
    "        \n",
    "    if(pose_scan[1,3] < 6.2):\n",
    "        continue\n",
    "    \n",
    "    pose_camera_file = folder + \"/camera_local_poses.txt\"\n",
    "    for i in range(num_each):\n",
    "        pose_camera = np.dot(load_pose_pinhole(pose_camera_file, i+1), pose_scan)        \n",
    "        \n",
    "        depth_file = folder + \"/\" + str(i+1) +\"_d.npy\"\n",
    "        image_file = folder + \"/\" + str(i+1) +\"_r.jpg\"\n",
    "\n",
    "        color = o3d.io.read_image(image_file)\n",
    "        depth_py = np.load(depth_file)*100\n",
    "        depth = o3d.geometry.Image(depth_py.astype('u2'))\n",
    "        rgbd_image = o3d.geometry.RGBDImage.create_from_color_and_depth(\n",
    "                color, depth, depth_trunc=2.0, convert_rgb_to_intensity=False)\n",
    "        \n",
    "        volume.integrate(\n",
    "            rgbd_image,\n",
    "            o3d.camera.PinholeCameraIntrinsic(640, 480, 500, 500, 320, 240),\n",
    "            pose_camera)"
   ]
  },
  {
   "cell_type": "code",
   "execution_count": 10,
   "metadata": {},
   "outputs": [
    {
     "name": "stdout",
     "output_type": "stream",
     "text": [
      "Extract a triangle mesh from the volume and visualize it.\n"
     ]
    }
   ],
   "source": [
    "print(\"Extract a triangle mesh from the volume and visualize it.\")\n",
    "mesh = volume.extract_triangle_mesh()\n",
    "mesh.compute_vertex_normals()\n",
    "o3d.visualization.draw_geometries([mesh])"
   ]
  },
  {
   "cell_type": "code",
   "execution_count": 11,
   "metadata": {},
   "outputs": [
    {
     "data": {
      "text/plain": [
       "True"
      ]
     },
     "execution_count": 11,
     "metadata": {},
     "output_type": "execute_result"
    }
   ],
   "source": [
    "o3d.io.write_triangle_mesh(\"garden_mesh_floor1.ply\", mesh)"
   ]
  },
  {
   "cell_type": "markdown",
   "metadata": {},
   "source": [
    "### record depth and images for colmap"
   ]
  },
  {
   "cell_type": "code",
   "execution_count": 43,
   "metadata": {},
   "outputs": [],
   "source": [
    "num_each = 9\n",
    "file_poses = open(floor_one_pose_file, \"w\")\n",
    "count_all = 1\n",
    "for k in range(len(scan_folders)):\n",
    "#for k in range(60, 62):\n",
    "    folder = scan_folders[k]\n",
    "    pose_scan_file = folder + \"/scan_pose.txt\"\n",
    "    pose_scan = load_pose_scan(pose_scan_file, scale = 0.1)\n",
    "    \n",
    "    q_y90 = Quaternion(axis = [0,1,0], angle=-np.pi/2)\n",
    "    pose_tfy = np.eye(4); pose_tfy[0:3,0:3] = q_y90.rotation_matrix\n",
    "\n",
    "    q_x90 = Quaternion(axis = [1,0,0], angle=-np.pi/2)\n",
    "    pose_tfx = np.eye(4); pose_tfx[0:3,0:3] = q_x90.rotation_matrix\n",
    "    \n",
    "    pose_scan_inv = np.linalg.inv(pose_scan)\n",
    "    pose_scan = np.dot(pose_scan_inv, np.dot(pose_tfx, pose_tfy))\n",
    "    pose_scan = np.linalg.inv(pose_scan)\n",
    "    \n",
    "    if(pose_scan[1,3] > 6.5):\n",
    "        continue\n",
    "        \n",
    "    if(pose_scan[1,3] < 6.2):\n",
    "        continue\n",
    "    \n",
    "    pose_camera_file = folder + \"/camera_local_poses.txt\"\n",
    "    for i in range(num_each):\n",
    "        pose_camera = np.dot(load_pose_pinhole(pose_camera_file, i+1), pose_scan)\n",
    "        \n",
    "        str_pose = str(count_all)\n",
    "        for k in range(4):\n",
    "            for j in range(4):\n",
    "                str_pose  = str_pose + ' ' + str(pose_camera[k,j])[0:8]\n",
    "        str_pose += '\\n'\n",
    "        file_poses.write(str_pose)\n",
    "        \n",
    "        \n",
    "        depth_file = folder + \"/\" + str(i+1) +\"_d.npy\"\n",
    "        image_file = folder + \"/\" + str(i+1) +\"_r.jpg\"\n",
    "        \n",
    "        image = cv2.imread(image_file)\n",
    "        cv2.imwrite(floor_one_output_folder_r + \"/\" + str(count_all)+\".jpg\", image)\n",
    "        depth = np.load(depth_file)\n",
    "        np.save(floor_one_output_folder_d + \"/\" + str(count_all)+\".npy\", depth)\n",
    "        \n",
    "        count_all+= 1;\n",
    "        \n",
    "file_poses.close()"
   ]
  },
  {
   "cell_type": "code",
   "execution_count": null,
   "metadata": {},
   "outputs": [],
   "source": []
  },
  {
   "cell_type": "code",
   "execution_count": null,
   "metadata": {},
   "outputs": [],
   "source": []
  },
  {
   "cell_type": "code",
   "execution_count": null,
   "metadata": {},
   "outputs": [],
   "source": []
  }
 ],
 "metadata": {
  "kernelspec": {
   "display_name": "utopa_cv",
   "language": "python",
   "name": "utopa_cv"
  },
  "language_info": {
   "codemirror_mode": {
    "name": "ipython",
    "version": 3
   },
   "file_extension": ".py",
   "mimetype": "text/x-python",
   "name": "python",
   "nbconvert_exporter": "python",
   "pygments_lexer": "ipython3",
   "version": "3.6.9"
  }
 },
 "nbformat": 4,
 "nbformat_minor": 2
}
